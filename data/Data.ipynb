{
 "cells": [
  {
   "cell_type": "code",
   "execution_count": 1,
   "metadata": {},
   "outputs": [],
   "source": [
    "import pandas as pd\n",
    "from shutil import copyfile\n",
    "import os"
   ]
  },
  {
   "cell_type": "code",
   "execution_count": 2,
   "metadata": {},
   "outputs": [],
   "source": [
    "def create_folder(type_=None, train_data=None, valid_data=None, classes=[], folder='../data'):\n",
    "    '''\n",
    "    Function that creates train, valid and test folder from a folder of images\n",
    "    \n",
    "    Parameters:\n",
    "    type_ -> Characteristic \n",
    "    train_data ->\n",
    "    valid_data ->\n",
    "    classes -> The names o\n",
    "    folder -> The path of the dataset of images\n",
    "    \n",
    "    '''\n",
    "    os.mkdir(F'{folder}/{type_}')\n",
    "    os.mkdir(F'{folder}/{type_}/train')\n",
    "    os.mkdir(F'{folder}/{type_}/valid')\n",
    "    os.mkdir(F'{folder}/{type_}/test')\n",
    "\n",
    "    for label in classes:\n",
    "        os.mkdir(F'{folder}/{type_}/train/{label}')\n",
    "        os.mkdir(F'{folder}/{type_}/valid/{label}')\n",
    "        os.mkdir(F'{folder}/{type_}/test/{label}')\n",
    "    \n",
    "    for index, elem in train_data.iterrows():\n",
    "        file_ = elem['filename']\n",
    "        label = elem[type_]\n",
    "        if label in classes:\n",
    "            source = F'{datafolder}/dataset/{file_}'\n",
    "            target = F'{datafolder}/{type_}/train/{label}/{file_}'\n",
    "            copyfile(source, target)\n",
    "\n",
    "    samples = valid_data[labels][type_].value_counts()\n",
    "    class_ = {}\n",
    "    for elem in list(zip(samples,samples.index)):\n",
    "        if elem[1] in classes:\n",
    "            valid = round(elem[0]*0.5)\n",
    "            test = elem[0] - valid\n",
    "            class_[elem[1]] = {'valid':valid, 'test':test}\n",
    "\n",
    "    for index, elem in valid_data.iterrows():\n",
    "        file_ = elem['filename']\n",
    "        name = elem[type_]\n",
    "        if name in classes:\n",
    "            samples = class_[name]\n",
    "            if samples['valid'] > 0:\n",
    "                class_[name]['valid'] -= 1\n",
    "                source = F'{folder}/dataset/{file_}'\n",
    "                target = F'{folder}/{type_}/valid/{name}/{file_}'\n",
    "                copyfile(source, target)\n",
    "            else:\n",
    "                samples['test'] -= 1\n",
    "                source = F'{folder}/dataset/{file_}'\n",
    "                target = F'{folder}/{type_}/test/{name}/{file_}'\n",
    "                copyfile(source, target)\n"
   ]
  },
  {
   "cell_type": "code",
   "execution_count": 3,
   "metadata": {},
   "outputs": [],
   "source": [
    "datafolder = '.'"
   ]
  },
  {
   "cell_type": "code",
   "execution_count": 4,
   "metadata": {
    "scrolled": true
   },
   "outputs": [
    {
     "data": {
      "text/html": [
       "<div>\n",
       "<style scoped>\n",
       "    .dataframe tbody tr th:only-of-type {\n",
       "        vertical-align: middle;\n",
       "    }\n",
       "\n",
       "    .dataframe tbody tr th {\n",
       "        vertical-align: top;\n",
       "    }\n",
       "\n",
       "    .dataframe thead th {\n",
       "        text-align: right;\n",
       "    }\n",
       "</style>\n",
       "<table border=\"1\" class=\"dataframe\">\n",
       "  <thead>\n",
       "    <tr style=\"text-align: right;\">\n",
       "      <th></th>\n",
       "      <th>artist</th>\n",
       "      <th>date</th>\n",
       "      <th>genre</th>\n",
       "      <th>pixelsx</th>\n",
       "      <th>pixelsy</th>\n",
       "      <th>size_bytes</th>\n",
       "      <th>source</th>\n",
       "      <th>style</th>\n",
       "      <th>title</th>\n",
       "      <th>artist_group</th>\n",
       "      <th>in_train</th>\n",
       "      <th>filename</th>\n",
       "    </tr>\n",
       "  </thead>\n",
       "  <tbody>\n",
       "    <tr>\n",
       "      <th>0</th>\n",
       "      <td>Barnett Newman</td>\n",
       "      <td>1955.0</td>\n",
       "      <td>abstract</td>\n",
       "      <td>15530.0</td>\n",
       "      <td>6911.0</td>\n",
       "      <td>9201912.0</td>\n",
       "      <td>wikiart</td>\n",
       "      <td>Color Field Painting</td>\n",
       "      <td>Uriel</td>\n",
       "      <td>train_only</td>\n",
       "      <td>True</td>\n",
       "      <td>102257.jpg</td>\n",
       "    </tr>\n",
       "    <tr>\n",
       "      <th>1</th>\n",
       "      <td>Barnett Newman</td>\n",
       "      <td>1950.0</td>\n",
       "      <td>abstract</td>\n",
       "      <td>14559.0</td>\n",
       "      <td>6866.0</td>\n",
       "      <td>8867532.0</td>\n",
       "      <td>wikiart</td>\n",
       "      <td>Color Field Painting</td>\n",
       "      <td>Vir Heroicus Sublimis</td>\n",
       "      <td>train_only</td>\n",
       "      <td>True</td>\n",
       "      <td>75232.jpg</td>\n",
       "    </tr>\n",
       "    <tr>\n",
       "      <th>2</th>\n",
       "      <td>kiri nichol</td>\n",
       "      <td>2013.0</td>\n",
       "      <td>MISSING</td>\n",
       "      <td>9003.0</td>\n",
       "      <td>9004.0</td>\n",
       "      <td>1756681.0</td>\n",
       "      <td>MISSING</td>\n",
       "      <td>Neoplasticism</td>\n",
       "      <td>MISSING</td>\n",
       "      <td>test_only</td>\n",
       "      <td>False</td>\n",
       "      <td>32145.jpg</td>\n",
       "    </tr>\n",
       "    <tr>\n",
       "      <th>3</th>\n",
       "      <td>kiri nichol</td>\n",
       "      <td>2013.0</td>\n",
       "      <td>MISSING</td>\n",
       "      <td>9003.0</td>\n",
       "      <td>9004.0</td>\n",
       "      <td>1942046.0</td>\n",
       "      <td>MISSING</td>\n",
       "      <td>Neoplasticism</td>\n",
       "      <td>MISSING</td>\n",
       "      <td>test_only</td>\n",
       "      <td>False</td>\n",
       "      <td>20304.jpg</td>\n",
       "    </tr>\n",
       "    <tr>\n",
       "      <th>4</th>\n",
       "      <td>kiri nichol</td>\n",
       "      <td>2013.0</td>\n",
       "      <td>MISSING</td>\n",
       "      <td>9003.0</td>\n",
       "      <td>9004.0</td>\n",
       "      <td>1526212.0</td>\n",
       "      <td>MISSING</td>\n",
       "      <td>Neoplasticism</td>\n",
       "      <td>MISSING</td>\n",
       "      <td>test_only</td>\n",
       "      <td>False</td>\n",
       "      <td>836.jpg</td>\n",
       "    </tr>\n",
       "  </tbody>\n",
       "</table>\n",
       "</div>"
      ],
      "text/plain": [
       "           artist    date     genre  pixelsx  pixelsy  size_bytes   source  \\\n",
       "0  Barnett Newman  1955.0  abstract  15530.0   6911.0   9201912.0  wikiart   \n",
       "1  Barnett Newman  1950.0  abstract  14559.0   6866.0   8867532.0  wikiart   \n",
       "2     kiri nichol  2013.0   MISSING   9003.0   9004.0   1756681.0  MISSING   \n",
       "3     kiri nichol  2013.0   MISSING   9003.0   9004.0   1942046.0  MISSING   \n",
       "4     kiri nichol  2013.0   MISSING   9003.0   9004.0   1526212.0  MISSING   \n",
       "\n",
       "                  style                  title artist_group  in_train  \\\n",
       "0  Color Field Painting                  Uriel   train_only      True   \n",
       "1  Color Field Painting  Vir Heroicus Sublimis   train_only      True   \n",
       "2         Neoplasticism                MISSING    test_only     False   \n",
       "3         Neoplasticism                MISSING    test_only     False   \n",
       "4         Neoplasticism                MISSING    test_only     False   \n",
       "\n",
       "     filename  \n",
       "0  102257.jpg  \n",
       "1   75232.jpg  \n",
       "2   32145.jpg  \n",
       "3   20304.jpg  \n",
       "4     836.jpg  "
      ]
     },
     "execution_count": 4,
     "metadata": {},
     "output_type": "execute_result"
    }
   ],
   "source": [
    "dataset = pd.read_csv('./all_data_info.csv'); dataset.head()"
   ]
  },
  {
   "cell_type": "code",
   "execution_count": 9,
   "metadata": {},
   "outputs": [],
   "source": [
    "labels = ['filename', 'artist', 'style', 'genre']"
   ]
  },
  {
   "cell_type": "code",
   "execution_count": 10,
   "metadata": {},
   "outputs": [
    {
     "data": {
      "text/plain": [
       "(4784, 12)"
      ]
     },
     "execution_count": 10,
     "metadata": {},
     "output_type": "execute_result"
    }
   ],
   "source": [
    "artist = ['Henri Matisse', 'Fernand Leger', 'Salvador Dali', 'Pablo Picasso', 'Vincent van Gogh', 'Rembrandt', 'Claude Monet', 'Peter Paul Rubens', 'Pierre-Auguste Renoir', 'Marc Chagall']\n",
    "styles = ['Impressionism', 'Baroque', 'Surrealism', 'Post-Impressionism', 'Naïve Art (Primitivism)', 'Expressionism', 'Cubism', 'Realism', 'Purism', 'Abstract Expressionism', 'Fauvism']\n",
    "genres = ['portrait','landscape', 'genre painting','sketch and study','religious painting','still life','nude painting (nu)','cityscape','symbolic painting','flower painting','self-portrait','mythological painting','illustration','abstract','design','interior']\n",
    "\n",
    "dataset = dataset.query(F'artist in {artist}')\n",
    "dataset.shape"
   ]
  },
  {
   "cell_type": "code",
   "execution_count": 11,
   "metadata": {},
   "outputs": [
    {
     "data": {
      "text/plain": [
       "(3650, 4)"
      ]
     },
     "execution_count": 11,
     "metadata": {},
     "output_type": "execute_result"
    }
   ],
   "source": [
    "train = dataset[dataset['in_train']]\n",
    "train = train[labels]\n",
    "train.head()\n",
    "train.shape"
   ]
  },
  {
   "cell_type": "code",
   "execution_count": 12,
   "metadata": {},
   "outputs": [
    {
     "data": {
      "text/plain": [
       "(1134, 4)"
      ]
     },
     "execution_count": 12,
     "metadata": {},
     "output_type": "execute_result"
    }
   ],
   "source": [
    "valid = dataset[~dataset['in_train']]\n",
    "valid = valid[labels]  \n",
    "valid.head()\n",
    "valid.shape"
   ]
  },
  {
   "cell_type": "code",
   "execution_count": 13,
   "metadata": {},
   "outputs": [],
   "source": [
    "#Artist folder\n",
    "create_folder(type_='artist', train_data=train, valid_data=valid, classes=artist, folder=datafolder)"
   ]
  },
  {
   "cell_type": "code",
   "execution_count": null,
   "metadata": {},
   "outputs": [],
   "source": [
    "#Style folder\n",
    "create_folder(type_='style', train_data=train, valid_data=valid, classes=styles, folder=datafolder)"
   ]
  },
  {
   "cell_type": "code",
   "execution_count": null,
   "metadata": {},
   "outputs": [],
   "source": [
    "#Genre folder\n",
    "create_folder(type_='genre', train_data=train, valid_data=valid, classes=genres, folder=datafolder)"
   ]
  }
 ],
 "metadata": {
  "kernelspec": {
   "display_name": "Python 3",
   "language": "python",
   "name": "python3"
  },
  "language_info": {
   "codemirror_mode": {
    "name": "ipython",
    "version": 3
   },
   "file_extension": ".py",
   "mimetype": "text/x-python",
   "name": "python",
   "nbconvert_exporter": "python",
   "pygments_lexer": "ipython3",
   "version": "3.7.4"
  }
 },
 "nbformat": 4,
 "nbformat_minor": 2
}
