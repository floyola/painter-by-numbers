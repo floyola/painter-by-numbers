{
 "cells": [
  {
   "cell_type": "code",
   "execution_count": null,
   "metadata": {},
   "outputs": [],
   "source": [
    "import pandas as pd\n",
    "from shutil import copyfile\n",
    "import os"
   ]
  },
  {
   "cell_type": "code",
   "execution_count": null,
   "metadata": {},
   "outputs": [],
   "source": [
    "def create_folder(type_=None, train_data=None, valid_data=None, classes=[], folder='../data'):\n",
    "    '''\n",
    "    Function that creates train, valid and test folder from a folder of images\n",
    "    \n",
    "    Parameters:\n",
    "    type_ -> Characteristic \n",
    "    train_data ->\n",
    "    valid_data ->\n",
    "    classes -> The names o\n",
    "    folder -> The path of the dataset of images\n",
    "    \n",
    "    '''\n",
    "    os.mkdir(F'{folder}/{type_}')\n",
    "    os.mkdir(F'{folder}/{type_}/train')\n",
    "    os.mkdir(F'{folder}/{type_}/valid')\n",
    "    os.mkdir(F'{folder}/{type_}/test')\n",
    "\n",
    "    for label in classes:\n",
    "        os.mkdir(F'{folder}/{type_}/train/{label}')\n",
    "        os.mkdir(F'{folder}/{type_}/valid/{label}')\n",
    "        os.mkdir(F'{folder}/{type_}/test/{label}')\n",
    "    \n",
    "    for index, elem in train_data.iterrows():\n",
    "        file_ = elem['filename']\n",
    "        label = elem[type_]\n",
    "        if label in classes:\n",
    "            source = F'{datafolder}/dataset/{file_}'\n",
    "            target = F'{datafolder}/{type_}/train/{label}/{file_}'\n",
    "            copyfile(source, target)\n",
    "\n",
    "    samples = valid_data[labels][type_].value_counts()\n",
    "    class_ = {}\n",
    "    for elem in list(zip(samples,samples.index)):\n",
    "        if elem[1] in classes:\n",
    "            valid = round(elem[0]*0.5)\n",
    "            test = elem[0] - valid\n",
    "            class_[elem[1]] = {'valid':valid, 'test':test}\n",
    "\n",
    "    for index, elem in valid_data.iterrows():\n",
    "        file_ = elem['filename']\n",
    "        name = elem[type_]\n",
    "        if name in classes:\n",
    "            samples = class_[name]\n",
    "            if samples['valid'] > 0:\n",
    "                class_[name]['valid'] -= 1\n",
    "                source = F'{folder}/dataset/{file_}'\n",
    "                target = F'{folder}/{type_}/valid/{name}/{file_}'\n",
    "                copyfile(source, target)\n",
    "            else:\n",
    "                samples['test'] -= 1\n",
    "                source = F'{folder}/dataset/{file_}'\n",
    "                target = F'{folder}/{type_}/test/{name}/{file_}'\n",
    "                copyfile(source, target)\n"
   ]
  },
  {
   "cell_type": "code",
   "execution_count": null,
   "metadata": {},
   "outputs": [],
   "source": [
    "datafolder = '.'"
   ]
  },
  {
   "cell_type": "code",
   "execution_count": null,
   "metadata": {
    "scrolled": true
   },
   "outputs": [],
   "source": [
    "dataset = pd.read_csv('./all_data_info.csv'); dataset.head()"
   ]
  },
  {
   "cell_type": "code",
   "execution_count": null,
   "metadata": {},
   "outputs": [],
   "source": [
    "labels = ['filename', 'artist', 'style', 'genre']"
   ]
  },
  {
   "cell_type": "code",
   "execution_count": null,
   "metadata": {},
   "outputs": [],
   "source": [
    "artist = ['Henri Matisse', 'Fernand Leger', 'Salvador Dali', 'Pablo Picasso', 'Vincent van Gogh', 'Rembrandt', 'Claude Monet', 'Peter Paul Rubens', 'Pierre-Auguste Renoir', 'Marc Chagall']\n",
    "styles = ['Impressionism', 'Baroque', 'Surrealism', 'Post-Impressionism', 'Naïve Art (Primitivism)', 'Expressionism', 'Cubism', 'Realism', 'Purism', 'Abstract Expressionism', 'Fauvism']\n",
    "genres = ['portrait','landscape', 'genre painting','sketch and study','religious painting','still life','nude painting (nu)','cityscape','symbolic painting','flower painting','self-portrait','mythological painting','illustration','abstract','design','interior']\n",
    "\n",
    "dataset = dataset.query(F'artist in {artist}')\n",
    "dataset.shape"
   ]
  },
  {
   "cell_type": "code",
   "execution_count": null,
   "metadata": {},
   "outputs": [],
   "source": [
    "train = dataset[dataset['in_train']]\n",
    "train = train[labels]\n",
    "train.head()\n",
    "train.shape"
   ]
  },
  {
   "cell_type": "code",
   "execution_count": null,
   "metadata": {},
   "outputs": [],
   "source": [
    "valid = dataset[~dataset['in_train']]\n",
    "valid = valid[labels]  \n",
    "valid.head()\n",
    "valid.shape"
   ]
  },
  {
   "cell_type": "code",
   "execution_count": null,
   "metadata": {},
   "outputs": [],
   "source": [
    "#Artist folder\n",
    "create_folder(type_='artist', train_data=train, valid_data=valid, classes=artist, folder=datafolder)"
   ]
  },
  {
   "cell_type": "code",
   "execution_count": null,
   "metadata": {},
   "outputs": [],
   "source": [
    "#Style folder\n",
    "create_folder(type_='style', train_data=train, valid_data=valid, classes=styles, folder=datafolder)"
   ]
  },
  {
   "cell_type": "code",
   "execution_count": null,
   "metadata": {},
   "outputs": [],
   "source": [
    "#Genre folder\n",
    "create_folder(type_='genre', train_data=train, valid_data=valid, classes=genres, folder=datafolder)"
   ]
  }
 ],
 "metadata": {
  "kernelspec": {
   "display_name": "Python 3",
   "language": "python",
   "name": "python3"
  },
  "language_info": {
   "codemirror_mode": {
    "name": "ipython",
    "version": 3
   },
   "file_extension": ".py",
   "mimetype": "text/x-python",
   "name": "python",
   "nbconvert_exporter": "python",
   "pygments_lexer": "ipython3",
   "version": "3.7.3"
  }
 },
 "nbformat": 4,
 "nbformat_minor": 2
}
