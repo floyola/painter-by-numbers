{
 "cells": [
  {
   "cell_type": "code",
   "execution_count": 9,
   "metadata": {
    "scrolled": true
   },
   "outputs": [
    {
     "name": "stdout",
     "output_type": "stream",
     "text": [
      "The jupyternotify extension is already loaded. To reload it, use:\n",
      "  %reload_ext jupyternotify\n"
     ]
    }
   ],
   "source": [
    "from __future__ import print_function, division\n",
    "\n",
    "%load_ext jupyternotify\n",
    "\n",
    "import torch\n",
    "import torch.nn as nn\n",
    "import torch.optim as optim\n",
    "import numpy as np\n",
    "import torchvision\n",
    "from torchvision import datasets, models, transforms\n",
    "import time\n",
    "from torch.autograd import Variable\n",
    "from torch.utils.data import DataLoader, Dataset\n",
    "import torch.nn.functional as F\n",
    "from data import dataset\n",
    "\n",
    "\n",
    "torch.set_num_threads(8)\n",
    "device = torch.device(\"cuda:0\" if torch.cuda.is_available() else \"cpu\")"
   ]
  },
  {
   "cell_type": "code",
   "execution_count": 17,
   "metadata": {
    "scrolled": true
   },
   "outputs": [],
   "source": [
    "def init_normal(m):\n",
    "    '''\n",
    "    Function that initialize the weights of a layer with zeros.\n",
    "    '''\n",
    "    nn.init.xavier_normal_(m.weight)\n",
    "    nn.init.zeros_(m.bias)"
   ]
  },
  {
   "cell_type": "code",
   "execution_count": 18,
   "metadata": {
    "scrolled": true
   },
   "outputs": [],
   "source": [
    "def check_accuracy(model, data):\n",
    "    '''\n",
    "    Function that measures the accuracy of a model\n",
    "    \n",
    "    Parameters\n",
    "        model -> The model to be evaluated.\n",
    "        data -> The data that will be used to evaluate the model.\n",
    "    '''\n",
    "    \n",
    "    num_correct = 0\n",
    "    num_samples = 0\n",
    "    model.eval()\n",
    "    for x, y in data:\n",
    "        \n",
    "        with torch.no_grad():\n",
    "            \n",
    "            y = y.view(-1, 1).type(torch.LongTensor)\n",
    "            x_var = Variable(x)\n",
    "            scores = model(x_var)\n",
    "            _, preds = scores.data.cpu().max(1)\n",
    "        \n",
    "            num_correct += (preds == y).sum()\n",
    "            num_samples += preds.size(0)\n",
    "        acc = float(num_correct) / num_samples\n",
    "        \n",
    "    print('Got %d / %d correct (%.2f)' % (num_correct, num_samples, 100 * acc))\n",
    "    \n",
    "    return int(100 * acc)"
   ]
  },
  {
   "cell_type": "code",
   "execution_count": 19,
   "metadata": {
    "scrolled": true
   },
   "outputs": [],
   "source": [
    "def train(num_epochs, model, optimizer, criterion, data):\n",
    "    '''\n",
    "    Function that trains a model\n",
    "    \n",
    "    Parameters\n",
    "        num_epochs -> Number of epochs of the training\n",
    "        model -> Model that will be trained\n",
    "        optimizer -> Instance of the class torch.optim that corresponds to the algorithm for optimize the loss function\n",
    "        criterion -> Loss Function\n",
    "        data -> The data that will be used to train the model\n",
    "    '''\n",
    "    \n",
    "    for epoch in range(num_epochs):\n",
    "        \n",
    "        print('Starting epoch %d / %d' % (epoch + 1, num_epochs))\n",
    "        \n",
    "        model.train()\n",
    "        \n",
    "        for i, (images, labels) in enumerate(data):\n",
    "            \n",
    "            images = Variable(images)\n",
    "            labels = Variable(labels)\n",
    "            \n",
    "            optimizer.zero_grad() \n",
    "            outputs = model(images)      \n",
    "            loss = criterion(outputs, labels)\n",
    "            loss.backward()\n",
    "            optimizer.step()\n",
    "            \n",
    "            total = labels.size(0)\n",
    "            _, predicted = torch.max(outputs.data, 1)\n",
    "            correct = (predicted == labels).sum().item()\n",
    "            \n",
    "            \n",
    "        print('Loss: {:.4f}, Accuracy: {:.2f}%'.format(loss.item(),(correct / total) * 100))\n",
    "            \n",
    "            #Print loss and accuracy\n",
    "            #if (i+1)%bs == 0:\n",
    "            #    print('Epoch [{}/{}], Step [{}/{}], Loss: {:.4f}, Accuracy: {:.2f}%'\n",
    "            #          .format(epoch + 1, num_epochs, i + 1, len(data), loss.item(),\n",
    "            #                  (correct / total) * 100))\n",
    "            "
   ]
  },
  {
   "cell_type": "code",
   "execution_count": 20,
   "metadata": {
    "scrolled": true
   },
   "outputs": [
    {
     "name": "stdout",
     "output_type": "stream",
     "text": [
      "train: 3650 valid: 567 test: 567\n"
     ]
    }
   ],
   "source": [
    "#Obtaining data\n",
    "\n",
    "class_ = 'artist'\n",
    "data = dataset(class_, bs_train=64, bs_valid=1, bs_test=1)\n",
    "num_classes = len(data['classes'])"
   ]
  },
  {
   "cell_type": "code",
   "execution_count": 21,
   "metadata": {
    "scrolled": true
   },
   "outputs": [
    {
     "name": "stdout",
     "output_type": "stream",
     "text": [
      "AlexNet\n"
     ]
    }
   ],
   "source": [
    "trained = True\n",
    "model = models.alexnet(pretrained=trained)\n",
    "model_type = type(model).__name__\n",
    "print (model_type)"
   ]
  },
  {
   "cell_type": "code",
   "execution_count": 22,
   "metadata": {
    "scrolled": true
   },
   "outputs": [
    {
     "name": "stdout",
     "output_type": "stream",
     "text": [
      "Freezing layers\n"
     ]
    }
   ],
   "source": [
    "\n",
    "if trained: #Freezing the layers of the pretrained nn\n",
    "    print (\"Freezing layers\")\n",
    "    for param in model.parameters():\n",
    "            param.requires_grad = False\n",
    "\n",
    "last_layer = None\n",
    "if model_type == 'AlexNet':\n",
    "    num_ftrs = model.classifier[6].in_features\n",
    "    model.classifier[6] = nn.Linear(num_ftrs, num_classes)\n",
    "    last_layer = model.classifier[6]\n",
    "elif model_type == 'ResNet':\n",
    "    num_ftrs = model.fc.in_features\n",
    "    model.fc = nn.Linear(num_ftrs, num_classes)\n",
    "    last_layer = model.fc\n",
    "    \n",
    "model = model.to(device)"
   ]
  },
  {
   "cell_type": "code",
   "execution_count": 23,
   "metadata": {
    "scrolled": true
   },
   "outputs": [
    {
     "data": {
      "text/plain": [
       "Linear(in_features=4096, out_features=10, bias=True)"
      ]
     },
     "execution_count": 23,
     "metadata": {},
     "output_type": "execute_result"
    }
   ],
   "source": [
    "last_layer.apply(init_normal) #Put the inital weights in zero."
   ]
  },
  {
   "cell_type": "code",
   "execution_count": 24,
   "metadata": {
    "scrolled": false
   },
   "outputs": [],
   "source": [
    "loss = nn.CrossEntropyLoss()\n",
    "optimizer = None\n",
    "if trained:\n",
    "    optimizer = optim.Adam(last_layer.parameters(), lr=1e-3)\n",
    "else:\n",
    "    optimizer = optim.Adam(q.parameters(), lr=1e-3)"
   ]
  },
  {
   "cell_type": "code",
   "execution_count": 25,
   "metadata": {
    "scrolled": true
   },
   "outputs": [],
   "source": [
    "epochs_train = 5\n",
    "epochs_valid = 2"
   ]
  },
  {
   "cell_type": "code",
   "execution_count": null,
   "metadata": {
    "scrolled": false
   },
   "outputs": [
    {
     "name": "stdout",
     "output_type": "stream",
     "text": [
      "Starting epoch 1 / 5\n",
      "Loss: 0.1266, Accuracy: 100.00%\n",
      "Starting epoch 2 / 5\n",
      "Loss: 0.2525, Accuracy: 100.00%\n",
      "Starting epoch 3 / 5\n",
      "Loss: 1.2237, Accuracy: 50.00%\n",
      "Starting epoch 4 / 5\n"
     ]
    }
   ],
   "source": [
    "%%notify -o\n",
    "start = time.time()\n",
    "\n",
    "#Training with train data\n",
    "train(model=model, criterion=loss, optimizer=optimizer,\n",
    "                       num_epochs=epochs_train, data=data['train'])\n",
    "\n",
    "minutes = int((time.time() - start)/60)\n",
    "F\"Finish Training after {minutes} minutes\""
   ]
  },
  {
   "cell_type": "code",
   "execution_count": null,
   "metadata": {
    "scrolled": true
   },
   "outputs": [],
   "source": [
    "%%notify -o\n",
    "acc = check_accuracy(model, data['test'])\n",
    "F'Accuracy before valid trainig: {acc}'"
   ]
  },
  {
   "cell_type": "code",
   "execution_count": null,
   "metadata": {
    "scrolled": true
   },
   "outputs": [],
   "source": [
    "if trained: #Unblocking the layers por the valid phase\n",
    "    print (\"Unblocking layers\")\n",
    "    for param in model.parameters():\n",
    "        param.requires_grad = True\n",
    "        \n",
    "optimizer = optim.Adam(model.parameters(), lr=1e-5, weight_decay=1e-2)"
   ]
  },
  {
   "cell_type": "code",
   "execution_count": null,
   "metadata": {
    "scrolled": false
   },
   "outputs": [],
   "source": [
    "%%notify -m \"Finish Validation Training!\"\n",
    "\n",
    "#Training with valid data\n",
    "train(model=model, criterion=loss, optimizer=optimizer, \n",
    "                       num_epochs=epochs_valid, data=data['valid'])"
   ]
  },
  {
   "cell_type": "code",
   "execution_count": null,
   "metadata": {},
   "outputs": [],
   "source": [
    "acc = check_accuracy(model, data['test'])"
   ]
  },
  {
   "cell_type": "code",
   "execution_count": null,
   "metadata": {
    "scrolled": false
   },
   "outputs": [],
   "source": [
    "acc = check_accuracy(model, data['valid'])"
   ]
  },
  {
   "cell_type": "code",
   "execution_count": null,
   "metadata": {
    "scrolled": true
   },
   "outputs": [],
   "source": [
    "%%notify -o\n",
    "model_name = F'fr_{model_type}_{trained}_{class_}_t{epochs_train}_v{epochs_valid}_c{num_classes}_acc{acc}_min{minutes}'\n",
    "print (model_name)\n",
    "F'{model_name}'"
   ]
  },
  {
   "cell_type": "code",
   "execution_count": null,
   "metadata": {
    "scrolled": true
   },
   "outputs": [],
   "source": [
    "torch.save(model.state_dict(), F'{model_type}/{model_name}.pth') #Saving data"
   ]
  }
 ],
 "metadata": {
  "kernelspec": {
   "display_name": "Python 3",
   "language": "python",
   "name": "python3"
  },
  "language_info": {
   "codemirror_mode": {
    "name": "ipython",
    "version": 3
   },
   "file_extension": ".py",
   "mimetype": "text/x-python",
   "name": "python",
   "nbconvert_exporter": "python",
   "pygments_lexer": "ipython3",
   "version": "3.7.3"
  }
 },
 "nbformat": 4,
 "nbformat_minor": 2
}
